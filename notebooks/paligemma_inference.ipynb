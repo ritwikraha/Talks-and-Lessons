{
  "nbformat": 4,
  "nbformat_minor": 0,
  "metadata": {
    "colab": {
      "provenance": [],
      "authorship_tag": "ABX9TyOfClrjuAC9CAl1yVYdCGW4",
      "include_colab_link": true
    },
    "kernelspec": {
      "name": "python3",
      "display_name": "Python 3"
    },
    "language_info": {
      "name": "python"
    }
  },
  "cells": [
    {
      "cell_type": "markdown",
      "metadata": {
        "id": "view-in-github",
        "colab_type": "text"
      },
      "source": [
        "<a href=\"https://colab.research.google.com/github/ritwikraha/Talks-and-Lessons/blob/main/notebooks/paligemma_inference.ipynb\" target=\"_parent\"><img src=\"https://colab.research.google.com/assets/colab-badge.svg\" alt=\"Open In Colab\"/></a>"
      ]
    },
    {
      "cell_type": "code",
      "source": [
        "\n",
        "from transformers import AutoTokenizer, PaliGemmaForConditionalGeneration, PaliGemmaProcessor\n",
        "from huggingface_hub import notebook_login\n",
        "import torch\n",
        "import numpy as np\n",
        "from PIL import Image\n",
        "from matplotlib import pyplot as plt\n",
        "import requests"
      ],
      "metadata": {
        "id": "VFw55zPNC3zB"
      },
      "execution_count": null,
      "outputs": []
    },
    {
      "cell_type": "code",
      "source": [
        "input_text = \"Who is this person?\"\n",
        "img_url = \"https://huggingface.co/datasets/ritwikraha/random-storage/resolve/main/cohen.jpeg\"\n",
        "input_image = Image.open(requests.get(img_url, stream=True).raw)\n"
      ],
      "metadata": {
        "id": "H6PpAfPhDW3q"
      },
      "execution_count": null,
      "outputs": []
    },
    {
      "cell_type": "code",
      "source": [
        "device = torch.device(\"cuda\" if torch.cuda.is_available() else \"cpu\")\n",
        "model_id = \"google/paligemma-3b-mix-224\"\n",
        "model = PaliGemmaForConditionalGeneration.from_pretrained(model_id, torch_dtype=torch.bfloat16)\n",
        "processor = PaliGemmaProcessor.from_pretrained(model_id)\n"
      ],
      "metadata": {
        "id": "WmB1VVz1DiHF"
      },
      "execution_count": null,
      "outputs": []
    },
    {
      "cell_type": "code",
      "execution_count": null,
      "metadata": {
        "id": "38POkDiPCnhN"
      },
      "outputs": [],
      "source": [
        "inputs = processor(text=input_text, images=input_image,\n",
        "                  padding=\"longest\", do_convert_rgb=True, return_tensors=\"pt\").to(\"cuda\")\n",
        "model.to(device)\n",
        "inputs = inputs.to(dtype=model.dtype)\n",
        "\n",
        "with torch.no_grad():\n",
        "  output = model.generate(**inputs, max_length=496)\n",
        "print(processor.decode(output[0], skip_special_tokens=True)\n",
        ")"
      ]
    }
  ]
}